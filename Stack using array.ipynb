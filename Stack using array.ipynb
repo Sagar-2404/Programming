{
 "cells": [
  {
   "cell_type": "code",
   "execution_count": 1,
   "metadata": {},
   "outputs": [
    {
     "name": "stdout",
     "output_type": "stream",
     "text": [
      "Stack after Push ['1']\n",
      "Stack after Push ['1', '21']\n",
      "Stack after Push ['1', '21', '14']\n",
      "Stack after Push ['1', '21', '14', '31']\n",
      "Stack after Push ['1', '21', '14', '31', '19']\n",
      "19\n",
      "Stack after Push ['1', '21', '14', '31', '3']\n",
      "Stack Overflow!\n",
      "Stack after Push ['1', '21', '14', '31', '3']\n",
      "Stack Overflow!\n",
      "Stack after Push ['1', '21', '14', '31', '3']\n",
      "3\n",
      "3\n",
      "31\n",
      "31\n"
     ]
    }
   ],
   "source": [
    "#Implementation of stacks using array(list in python).\n",
    "class Stack(): \n",
    "    def __init__(self, limit = 10): \n",
    "        self.stk = limit*[]\n",
    "        self.limit = limit \n",
    "    def isEmpty(self): \n",
    "        return len(self.stk) <= 0 \n",
    "    def push(self, item): \n",
    "        if len(self.stk) >= self.limit: \n",
    "            print('Stack Overflow!')\n",
    "        else: \n",
    "            self.stk.append(item) \n",
    "        print('Stack after Push',self.stk)\n",
    "    def pop(self): \n",
    "        if len(self.stk) <= 0:\n",
    "            print('Stack Underflow!')\n",
    "            return 0 \n",
    "        else: \n",
    "            return self.stk.pop() \n",
    "    def peek(self): \n",
    "        if len(self.stk) < 0:\n",
    "            print('Stack UndcrOowl' )\n",
    "            return 0\n",
    "        else: \n",
    "            return self.stk[-1] \n",
    "    def size(sell): \n",
    "        return len(self.stk) \n",
    "stack = Stack(5)\n",
    "stack.push(\"1\") \n",
    "stack.push(\"21\" ) \n",
    "stack.push(\"14\") \n",
    "stack.push(\"31\") \n",
    "stack.push(\"19\")\n",
    "print(stack.pop())\n",
    "stack.push(\"3\") \n",
    "stack.push(\"99\") \n",
    "stack.push(\"97\") \n",
    "print(stack.peek())\n",
    "print(stack.pop())\n",
    "print(stack.peek())\n",
    "print(stack.pop())"
   ]
  },
  {
   "cell_type": "code",
   "execution_count": null,
   "metadata": {},
   "outputs": [],
   "source": []
  }
 ],
 "metadata": {
  "kernelspec": {
   "display_name": "Python 3",
   "language": "python",
   "name": "python3"
  },
  "language_info": {
   "codemirror_mode": {
    "name": "ipython",
    "version": 3
   },
   "file_extension": ".py",
   "mimetype": "text/x-python",
   "name": "python",
   "nbconvert_exporter": "python",
   "pygments_lexer": "ipython3",
   "version": "3.8.8"
  }
 },
 "nbformat": 4,
 "nbformat_minor": 2
}
