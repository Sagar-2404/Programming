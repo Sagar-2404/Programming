{
 "cells": [
  {
   "cell_type": "code",
   "execution_count": 7,
   "metadata": {},
   "outputs": [
    {
     "name": "stdout",
     "output_type": "stream",
     "text": [
      "5\n"
     ]
    }
   ],
   "source": [
    "#Find the length of the longest substring in an array where numbers are not repeated.\n",
    "def longest(arr):\n",
    "    l={}\n",
    "    start=0\n",
    "    maxl=0\n",
    "    for i in range(len(arr)):\n",
    "        if arr[i] in l:\n",
    "            start=max(start,l[arr[i]]+1)\n",
    "        maxl=max(maxl,i-start+1)\n",
    "        l[arr[i]]=i\n",
    "    print(maxl)\n",
    "arr=[2,4,6,2,6,8,9,10]\n",
    "longest(arr)\n"
   ]
  },
  {
   "cell_type": "code",
   "execution_count": null,
   "metadata": {},
   "outputs": [],
   "source": []
  }
 ],
 "metadata": {
  "kernelspec": {
   "display_name": "Python 3",
   "language": "python",
   "name": "python3"
  },
  "language_info": {
   "codemirror_mode": {
    "name": "ipython",
    "version": 3
   },
   "file_extension": ".py",
   "mimetype": "text/x-python",
   "name": "python",
   "nbconvert_exporter": "python",
   "pygments_lexer": "ipython3",
   "version": "3.8.8"
  }
 },
 "nbformat": 4,
 "nbformat_minor": 2
}
