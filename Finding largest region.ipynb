{
 "cells": [
  {
   "cell_type": "code",
   "execution_count": 1,
   "metadata": {},
   "outputs": [
    {
     "name": "stdout",
     "output_type": "stream",
     "text": [
      "Enter the number of rows3\n",
      "Enter the number of columns3\n",
      "Enter the matrix1\n",
      "Enter the matrix0\n",
      "Enter the matrix0\n",
      "Enter the matrix1\n",
      "Enter the matrix1\n",
      "Enter the matrix1\n",
      "Enter the matrix1\n",
      "Enter the matrix1\n",
      "Enter the matrix1\n",
      "[[1, 0, 0], [1, 1, 1], [1, 1, 1]]\n",
      "7\n"
     ]
    }
   ],
   "source": [
    "ROW=int(input(\"Enter the number of rows\"))\n",
    "COL=int(input(\"Enter the number of columns\"))\n",
    "M = [[int(input(\"Enter the matrix\")) for x in range (COL)] for y in range(ROW)]\n",
    "print(M)\n",
    "\n",
    "\n",
    "\n",
    "def isSafe(M, row, col, visited):\n",
    "\tglobal ROW, COL\n",
    "\treturn ((row >= 0) and (row < ROW) and\n",
    "\t\t\t(col >= 0) and (col < COL) and\n",
    "\t\t\t(M[row][col] and not visited[row][col]))\n",
    "\n",
    "def DFS(M, row, col, visited, count):\n",
    "\n",
    "\trowNbr = [-1, -1, -1, 0 , 0,  1, 1, 1]\n",
    "\tcolNbr = [-1,  0,  1, -1, 1, -1, 0, 1]\n",
    "\tvisited[row][col] = True\n",
    "\tfor k in range(8):\n",
    "\t\tif (isSafe(M, row + rowNbr[k],\n",
    "\t\t\t\tcol + colNbr[k], visited)):\n",
    "\t\t\tcount[0] += 1\n",
    "\t\t\tDFS(M, row + rowNbr[k],\n",
    "\t\t\t\tcol + colNbr[k], visited, count)\n",
    "\n",
    "def largestRegion(M):\n",
    "\tglobal ROW, COL\n",
    "\tvisited = [[0] * COL for i in range(ROW)]#visited=[[0]*ROW]*COL\n",
    "\tresult = -999999999999\n",
    "\tfor i in range(ROW):\n",
    "\t\tfor j in range(COL):\n",
    "\t\t\tif (M[i][j] and not visited[i][j]):\n",
    "\t\t\t\tcount = [1]\n",
    "\t\t\t\tDFS(M, i, j, visited, count)\n",
    "\t\t\t\tresult = max(result, count[0])\n",
    "\treturn result\n",
    "\n",
    "print(largestRegion(M))"
   ]
  },
  {
   "cell_type": "code",
   "execution_count": null,
   "metadata": {},
   "outputs": [],
   "source": []
  },
  {
   "cell_type": "code",
   "execution_count": null,
   "metadata": {},
   "outputs": [],
   "source": []
  },
  {
   "cell_type": "code",
   "execution_count": null,
   "metadata": {},
   "outputs": [],
   "source": []
  },
  {
   "cell_type": "code",
   "execution_count": null,
   "metadata": {},
   "outputs": [],
   "source": []
  }
 ],
 "metadata": {
  "kernelspec": {
   "display_name": "Python 3",
   "language": "python",
   "name": "python3"
  },
  "language_info": {
   "codemirror_mode": {
    "name": "ipython",
    "version": 3
   },
   "file_extension": ".py",
   "mimetype": "text/x-python",
   "name": "python",
   "nbconvert_exporter": "python",
   "pygments_lexer": "ipython3",
   "version": "3.8.8"
  }
 },
 "nbformat": 4,
 "nbformat_minor": 2
}
