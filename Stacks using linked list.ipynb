{
 "cells": [
  {
   "cell_type": "code",
   "execution_count": 24,
   "metadata": {},
   "outputs": [
    {
     "name": "stdout",
     "output_type": "stream",
     "text": [
      "Top of the element is 4\n",
      "4 <- 3 <- 2 <- 1 <- \n",
      "Deleted item is 4\n",
      "3 <- 2 <- 1 <- \n",
      "Deleted item is 3\n",
      "2 <- 1 <- "
     ]
    }
   ],
   "source": [
    "#Implementation of stacks using linked lists.\n",
    "\n",
    "class Node: \n",
    "    def __init__(self,data): \n",
    "        self.data = data\n",
    "        self.next= None\n",
    "    \n",
    "class Stack: \n",
    "    def __init__(self): \n",
    "        self.head = None  \n",
    "    def isempty(self):\n",
    "        if self.head==None:\n",
    "            return True\n",
    "        else:\n",
    "            return False\n",
    "    def push(self,data):\n",
    "        if self.head==None:\n",
    "            self.head = Node(data)\n",
    "        else:\n",
    "            temp=Node(data)\n",
    "            temp.next=self.head\n",
    "            self.head = temp \n",
    "    def pop(self): \n",
    "        if self.isempty(): \n",
    "            return None\n",
    "        temp = self.head \n",
    "        self.head = self.head.next\n",
    "        return temp.data\n",
    "    def peek(self): \n",
    "        if self.head is None: \n",
    "            raise lndexError \n",
    "        return self.head.data \n",
    "    def dispaly(self):\n",
    "        if self.head==None:\n",
    "            return None\n",
    "        else:\n",
    "            temp=self.head\n",
    "            while temp!=None:\n",
    "                print(temp.data,\"<-\",end=\" \")\n",
    "                temp=temp.next\n",
    "\n",
    "\n",
    "our_stack=Stack()\n",
    "our_stack.push(1)\n",
    "our_stack.push(2)\n",
    "our_stack.push(3)\n",
    "our_stack.push(4)\n",
    "print(\"Top of the element is\",our_stack.peek())\n",
    "our_stack.dispaly()\n",
    "print(\"\\nDeleted item is\",our_stack.pop())\n",
    "our_stack.dispaly()\n",
    "print(\"\\nDeleted item is\",our_stack.pop())\n",
    "our_stack.dispaly()\n"
   ]
  },
  {
   "cell_type": "code",
   "execution_count": null,
   "metadata": {},
   "outputs": [],
   "source": []
  },
  {
   "cell_type": "code",
   "execution_count": null,
   "metadata": {},
   "outputs": [],
   "source": []
  }
 ],
 "metadata": {
  "kernelspec": {
   "display_name": "Python 3",
   "language": "python",
   "name": "python3"
  },
  "language_info": {
   "codemirror_mode": {
    "name": "ipython",
    "version": 3
   },
   "file_extension": ".py",
   "mimetype": "text/x-python",
   "name": "python",
   "nbconvert_exporter": "python",
   "pygments_lexer": "ipython3",
   "version": "3.8.8"
  }
 },
 "nbformat": 4,
 "nbformat_minor": 2
}
