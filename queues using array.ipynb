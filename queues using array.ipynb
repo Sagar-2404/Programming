{
 "cells": [
  {
   "cell_type": "code",
   "execution_count": 23,
   "metadata": {},
   "outputs": [
    {
     "name": "stdout",
     "output_type": "stream",
     "text": [
      "Queue after enque ['First']\n",
      "Front:  First\n",
      "Rear:  First\n",
      "Queue after enque ['First', 'second']\n",
      "Front: First\n",
      "Rear: First\n",
      "Queue after enque ['First', 'second', 'third']\n",
      "Front: First\n",
      "Rear: second\n",
      "Queue after deQueue ['second', 'third']\n",
      "Front: second\n",
      "Rear: third\n",
      "Queue Underflow\n",
      "front: second\n",
      "Rear: third\n"
     ]
    }
   ],
   "source": [
    "#Implementation of queue's using array.\n",
    "class Queue: \n",
    "    def __init__(self, limit =5): \n",
    "        self.que = []\n",
    "        self.limit = limit\n",
    "        self.front = None \n",
    "        self.rear = None \n",
    "        self.size = 0 \n",
    "    def isEmpty(self): \n",
    "        return self.size <= 0 \n",
    "    def enQueue(self,item): \n",
    "        if self.size >= self. limit: \n",
    "            print('Queue Overflow!')\n",
    "            return \n",
    "        else: \n",
    "            self.que.append(item) \n",
    "        if self.front is None: \n",
    "            self.front = self.rear= 0 \n",
    "        else: \n",
    "            self.rear =self.size \n",
    "            self.size += 1 \n",
    "        print('Queue after enque',self.que)\n",
    "    def deQueue(self): \n",
    "        if self.size <= 0:\n",
    "            print('Queue Underflow')\n",
    "            return 0 \n",
    "        else: \n",
    "            self.que.pop(0) \n",
    "            self.size-=1 \n",
    "        if self.size == 0: \n",
    "            self.front= self.rear=None \n",
    "        else: \n",
    "            self.rear = self.size\n",
    "        self.size-=1\n",
    "        print('Queue after deQueue',self.que) \n",
    "    def queueRear(self): \n",
    "        if self.rear is None: \n",
    "            print(\"Sorry, the queue is empty!\")\n",
    "            raise IndexError \n",
    "        return self.que[self.rear] \n",
    "    def queueFront(self): \n",
    "        if self.front is None: \n",
    "            print(\"Sorry, the queue is empty\") \n",
    "            raise IndexError \n",
    "        return self.que[self.front] \n",
    "    def size(self): \n",
    "        return self.size \n",
    "que = Queue()\n",
    "que.enQueue(\"First\") \n",
    "print(\"Front: \",que.queueFront())\n",
    "print(\"Rear: \",que.queueRear()) \n",
    "que.enQueue(\"second\") \n",
    "print(\"Front: \"+que.queueFront()) \n",
    "print(\"Rear: \"+que.queueRear()) \n",
    "que.enQueue(\"third\") \n",
    "print(\"Front: \"+que.queueFront())\n",
    "print(\"Rear: \"+que.queueRear())\n",
    "que.deQueue() \n",
    "print(\"Front: \"+que.queueFront())\n",
    "print(\"Rear: \"+que.queueRear()) \n",
    "que.deQueue() \n",
    "print(\"front: \"+que.queueFront() )\n",
    "print(\"Rear: \"+que.queueRear())"
   ]
  },
  {
   "cell_type": "code",
   "execution_count": null,
   "metadata": {},
   "outputs": [],
   "source": []
  }
 ],
 "metadata": {
  "kernelspec": {
   "display_name": "Python 3",
   "language": "python",
   "name": "python3"
  },
  "language_info": {
   "codemirror_mode": {
    "name": "ipython",
    "version": 3
   },
   "file_extension": ".py",
   "mimetype": "text/x-python",
   "name": "python",
   "nbconvert_exporter": "python",
   "pygments_lexer": "ipython3",
   "version": "3.8.8"
  }
 },
 "nbformat": 4,
 "nbformat_minor": 2
}
