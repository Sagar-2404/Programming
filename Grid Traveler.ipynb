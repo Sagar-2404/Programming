{
 "cells": [
  {
   "cell_type": "code",
   "execution_count": 23,
   "metadata": {},
   "outputs": [
    {
     "name": "stdout",
     "output_type": "stream",
     "text": [
      "70\n",
      "2333606220\n"
     ]
    }
   ],
   "source": [
    "# Determine the number of ways in which a person can move from start to end using only down and right blocks in a m* n grid.\n",
    "#NOte...Grid traveler of m,n is equal to Grid traveler of n,m.\n",
    "#1.Using Recursion\n",
    "def gridTraveler(m,n):\n",
    "    if m==1 and n==1:\n",
    "        return 1\n",
    "    if m==0 or n==0:\n",
    "        return 0\n",
    "    return gridTraveler(m-1,n)+gridTraveler(m,n-1)\n",
    "#Time complexity: O(2^(m+n))\n",
    "#Space Complexity: O(m+n)\n",
    "\n",
    "#2.Dynamic Programming\n",
    "def gridTraveler12(m,n,memo):\n",
    "    key=str(m)+','+str(n)\n",
    "    if key in memo:\n",
    "        return memo[key]\n",
    "    if m==1 and n==1:\n",
    "        return 1\n",
    "    if m==0 or n==0:\n",
    "        return 0\n",
    "    memo[key]=gridTraveler12(m-1,n,memo)+gridTraveler12(m,n-1,memo)\n",
    "    return memo[key]\n",
    "#Time Complexity: O(m*n)\n",
    "#Time Comlexity: O(n+m)s\n",
    "    \n",
    "memo={}\n",
    "print(gridTraveler(5,5))\n",
    "print(gridTraveler12(18,18,memo))"
   ]
  },
  {
   "cell_type": "code",
   "execution_count": null,
   "metadata": {},
   "outputs": [],
   "source": []
  },
  {
   "cell_type": "code",
   "execution_count": null,
   "metadata": {},
   "outputs": [],
   "source": []
  }
 ],
 "metadata": {
  "kernelspec": {
   "display_name": "Python 3",
   "language": "python",
   "name": "python3"
  },
  "language_info": {
   "codemirror_mode": {
    "name": "ipython",
    "version": 3
   },
   "file_extension": ".py",
   "mimetype": "text/x-python",
   "name": "python",
   "nbconvert_exporter": "python",
   "pygments_lexer": "ipython3",
   "version": "3.8.8"
  }
 },
 "nbformat": 4,
 "nbformat_minor": 2
}
