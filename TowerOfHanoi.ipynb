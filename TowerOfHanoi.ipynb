{
 "cells": [
  {
   "cell_type": "code",
   "execution_count": 19,
   "metadata": {},
   "outputs": [
    {
     "name": "stdout",
     "output_type": "stream",
     "text": [
      "Enter number of disks\n",
      "4\n",
      "move 1 from A to C\n",
      "move 2 from A to B\n",
      "move 1 from C to B\n",
      "move 3 from A to C\n",
      "move 1 from B to A\n",
      "move 2 from B to C\n",
      "move 1 from A to C\n",
      "move 4 from A to B\n",
      "move 1 from C to B\n",
      "move 2 from C to A\n",
      "move 1 from B to A\n",
      "move 3 from C to B\n",
      "move 1 from A to C\n",
      "move 2 from A to B\n",
      "move 1 from C to B\n"
     ]
    }
   ],
   "source": [
    "#Tower Of Hanoi\n",
    "def Tower(n,source,destination,auxillary):\n",
    "    if n==1 :\n",
    "        print(\"move\",n,\"from\",source,\"to\",destination)\n",
    "        return\n",
    "    Tower(n-1,source,auxillary,destination)\n",
    "    print(\"move\",n,\"from\",source,\"to\",destination)\n",
    "    Tower(n-1,auxillary,destination,source)\n",
    "\n",
    "\n",
    "n=int(input(\"Enter number of disks\\n\"))\n",
    "Tower(n,'A','B','C')\n",
    "                                    "
   ]
  },
  {
   "cell_type": "code",
   "execution_count": null,
   "metadata": {},
   "outputs": [],
   "source": []
  }
 ],
 "metadata": {
  "kernelspec": {
   "display_name": "Python 3",
   "language": "python",
   "name": "python3"
  },
  "language_info": {
   "codemirror_mode": {
    "name": "ipython",
    "version": 3
   },
   "file_extension": ".py",
   "mimetype": "text/x-python",
   "name": "python",
   "nbconvert_exporter": "python",
   "pygments_lexer": "ipython3",
   "version": "3.6.5"
  }
 },
 "nbformat": 4,
 "nbformat_minor": 2
}
