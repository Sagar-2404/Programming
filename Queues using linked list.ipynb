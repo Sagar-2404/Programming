{
 "cells": [
  {
   "cell_type": "code",
   "execution_count": 19,
   "metadata": {},
   "outputs": [
    {
     "name": "stdout",
     "output_type": "stream",
     "text": [
      "Underflow\n",
      "1 ->\n",
      "2 ->\n",
      "3 ->\n",
      "4 ->\n",
      "5 ->\n",
      "Deleted node is 1\n",
      "Deleted node is 2\n",
      "Deleted node is 3\n",
      "Front: 4\n",
      "Rear: 6\n",
      "4 ->\n",
      "5 ->\n",
      "6 ->\n"
     ]
    }
   ],
   "source": [
    "#Implementation of queue's using linked lists.\n",
    "\n",
    "class Node:\n",
    "    def __init__(self,data):\n",
    "        self.data=data\n",
    "        self.next=None\n",
    "class Queue:\n",
    "    def __init__(self):\n",
    "        self.head=None\n",
    "        self.rear=None\n",
    "    def isempty(self):\n",
    "        if self.head==None:\n",
    "            return True\n",
    "        return False\n",
    "    def enqueue(self,data):\n",
    "        if self.head==None:\n",
    "            self.head=Node(data)\n",
    "            self.rear=self.head\n",
    "            return\n",
    "        temp=Node(data)\n",
    "        self.rear.next=temp\n",
    "        self.rear=temp\n",
    "    def dequeue(self):\n",
    "        if self.isempty():\n",
    "            print(\"Underflow\")\n",
    "            return\n",
    "        temp=self.head\n",
    "        self.head=self.head.next\n",
    "        print(\"Deleted node is\",temp.data)\n",
    "        \n",
    "    def display(self):\n",
    "        if self.head==None:\n",
    "            return None\n",
    "        temp=self.head\n",
    "        while temp != None:\n",
    "            print(temp.data,\"->\")\n",
    "            temp=temp.next\n",
    "    def frontRear(self):\n",
    "        if self.head==None:\n",
    "            print(\"Underflow\")\n",
    "            return \n",
    "        temp=self.head\n",
    "        print(\"Front:\",temp.data)\n",
    "        print(\"Rear:\",self.rear.data)\n",
    "que=Queue()\n",
    "que.dequeue()\n",
    "que.enqueue(1)\n",
    "que.enqueue(2)\n",
    "que.enqueue(3)\n",
    "que.enqueue(4)\n",
    "que.enqueue(5)\n",
    "que.display()\n",
    "que.dequeue()\n",
    "que.dequeue()\n",
    "que.dequeue()\n",
    "que.enqueue(6)\n",
    "que.frontRear()\n",
    "que.display()\n",
    "    \n",
    "            "
   ]
  },
  {
   "cell_type": "code",
   "execution_count": null,
   "metadata": {},
   "outputs": [],
   "source": []
  }
 ],
 "metadata": {
  "kernelspec": {
   "display_name": "Python 3",
   "language": "python",
   "name": "python3"
  },
  "language_info": {
   "codemirror_mode": {
    "name": "ipython",
    "version": 3
   },
   "file_extension": ".py",
   "mimetype": "text/x-python",
   "name": "python",
   "nbconvert_exporter": "python",
   "pygments_lexer": "ipython3",
   "version": "3.8.8"
  }
 },
 "nbformat": 4,
 "nbformat_minor": 2
}
